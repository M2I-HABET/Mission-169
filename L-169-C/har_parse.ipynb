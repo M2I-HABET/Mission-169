{
 "cells": [
  {
   "cell_type": "markdown",
   "metadata": {},
   "source": [
    "# Flight Information\n",
    "# HABET Flight L-169-C\n",
    "## Mission - Eclipse Flights"
   ]
  },
  {
   "cell_type": "markdown",
   "metadata": {},
   "source": [
    "# Import\n",
    "Our next step is to import the libraries we will be using."
   ]
  },
  {
   "cell_type": "code",
   "execution_count": null,
   "metadata": {},
   "outputs": [],
   "source": [
    "# Import Mapping software\n",
    "import tilemapbase\n",
    "\n",
    "# Pandas for data analysis\n",
    "import pandas as pd\n",
    "\n",
    "# Setup Matplotlib to work in Jupyter notebooks\n",
    "%matplotlib inline\n",
    "\n",
    "#Import needed libraries, mainly numpy, matplotlib and datetime\n",
    "import math\n",
    "import numpy as np\n",
    "import matplotlib.pyplot as plt\n",
    "import matplotlib.dates as mdates\n",
    "from datetime import datetime, timedelta, date\n",
    "import simplekml\n",
    "\n",
    "# Import the Image function from the IPython.display module.\n",
    "from IPython.display import Image"
   ]
  },
  {
   "cell_type": "markdown",
   "metadata": {},
   "source": [
    "# Initial Conditions\n",
    "It is useful to a few variables now so you don't need to worry about them later. This way you can set these now and then just run the entire notebook. We will set the following variables:\n",
    "\n",
    "- Launch Location (latitude,longitude)\n",
    "- Launch date/time (month-day-year HH:MM:SS)\n",
    "- Flight ID (ex. L-158-D)"
   ]
  },
  {
   "cell_type": "code",
   "execution_count": null,
   "metadata": {},
   "outputs": [],
   "source": [
    "# Launch Coordinates in Decimal Degrees\n",
    "launch_loc = (37.708989, -89.216643)\n",
    "\n",
    "#Flight ID - Example LX-158-C\n",
    "flight_id = 'L-169-C'\n",
    "\n",
    "#set the date and time format\n",
    "date_format = '%m-%d-%Y %H:%M:%S'\n",
    "launch_date = date(2024, 4, 8)\n",
    "launch_time = datetime.strptime('4-8-2024 12:59:00',date_format)\n",
    "\n",
    "#set the DPI for saved graphs/plots\n",
    "img_dpi = 300"
   ]
  },
  {
   "cell_type": "markdown",
   "metadata": {},
   "source": [
    "## Read and Parse the file\n",
    "We can use Pandas to read the CSV files and store them as a Pandas dataframe. The CSV files do not have headers on them. So, we will also go ahead and add labels for the columns as well."
   ]
  },
  {
   "cell_type": "code",
   "execution_count": null,
   "metadata": {},
   "outputs": [],
   "source": [
    "har_df = pd.read_csv('HARdata.csv')\n",
    "har_df.columns =['Device','Time', 'Lat', 'Lon', 'Altitude', 'Heading','Speed','PDOP','Pressure','Temp','Humidity']\n",
    "# Convert data\n",
    "# Data is stored as integers for efficiency. This \"unpacks\" that to the proper values\n",
    "har_df['Lon'] /= 10000000\n",
    "har_df['Lat'] /= 10000000\n",
    "har_df['Altitude'] /= 1000\n",
    "har_df['Temp'] = har_df.Temp / 100\n",
    "har_df['Humidity'] = har_df.Humidity / 1000\n",
    "har_df['Pressure'] = har_df.Pressure / 100\n",
    "har_df['Time'] = pd.to_datetime(launch_date.strftime('%Y-%m-%d ') + har_df['Time'],format='%Y-%m-%d %H:%M:%S')\n",
    "har_df['Speed'] = har_df.Speed / 10\n",
    "har_df['PDOP'] = har_df.PDOP / 10\n",
    "har_df['Heading'] = har_df.Heading / 100000\n",
    "\n",
    "# First, ensure that your 'Time' column is timezone-aware\n",
    "har_df['Time'] = pd.to_datetime(har_df['Time']).dt.tz_localize('UTC')\n",
    "\n",
    "# Now convert from UTC to Central Time\n",
    "har_df['Time'] = har_df['Time'].dt.tz_convert('America/Chicago')\n",
    "\n",
    "print(har_df.head())\n"
   ]
  },
  {
   "cell_type": "markdown",
   "metadata": {},
   "source": [
    "# Flight Information\n",
    "We can now do some calculations on a few stats on the flights. Let's start by calculating the flight time. BERT records at 1 sec intervals so we can list the launch time based on the information provided and then how many data points were recorded."
   ]
  },
  {
   "cell_type": "code",
   "execution_count": null,
   "metadata": {},
   "outputs": [],
   "source": [
    "print('Launch date is:',launch_time.date())\n",
    "print('Launch time is:',launch_time.time())\n",
    "time_sec = len(har_df)*3\n",
    "flight_time = har_df\n",
    "flight_time = timedelta(seconds=time_sec)\n",
    "#landing_time = launch_time+timedelta(seconds=time_sec)\n",
    "landing_time = har_df['Time'].iloc[-1]\n",
    "set_time = pd.Timestamp('2024-04-08 16:59:00')\n",
    "# Calculate the time difference\n",
    "time_difference = landing_time - set_time\n",
    "print('Flight time is:',time_difference)\n",
    "print('Landing time is:',landing_time)"
   ]
  },
  {
   "cell_type": "markdown",
   "metadata": {},
   "source": [
    "## Distance\n",
    "We can also look at the Launch location and final landing coordinates to get our distance."
   ]
  },
  {
   "cell_type": "code",
   "execution_count": null,
   "metadata": {},
   "outputs": [],
   "source": [
    "from math import radians, sin, cos, acos, atan2,sqrt\n",
    "\n",
    "# approximate radius of earth in km\n",
    "R = 6373.0\n",
    "\n",
    "lat1 = radians(launch_loc[0])\n",
    "lon1 = radians(launch_loc[1])\n",
    "lat2 = radians(har_lat.iloc[-1])\n",
    "lon2 = radians(har_lon.iloc[-1])\n",
    "\n",
    "dlon = lon2 - lon1\n",
    "dlat = lat2 - lat1\n",
    "\n",
    "a = sin(dlat / 2)**2 + cos(lat1) * cos(lat2) * sin(dlon / 2)**2\n",
    "c = 2 * atan2(sqrt(a), sqrt(1 - a))\n",
    "\n",
    "distance = R * c\n",
    "\n",
    "print('Result: %.2f km' % distance)"
   ]
  },
  {
   "cell_type": "markdown",
   "metadata": {},
   "source": [
    "# Minimum and Maximum Data points\n",
    "Before we graph the data, let's look at some minimum and maximum data points that were collected. "
   ]
  },
  {
   "cell_type": "code",
   "execution_count": null,
   "metadata": {},
   "outputs": [],
   "source": [
    "print('The maximum temperature recorded inside the payload was',har_df.Temp.max(),'C')\n",
    "print('The minimum temperature recorded inside the payload was',har_df.Temp.min(),'C')\n",
    "print('The maximum humidity recorded inside the payload was',har_df.Humidity.max(),'%')\n",
    "print('The minimum humidity recorded inside the payload was',har_df.Humidity.min(),'%')"
   ]
  },
  {
   "cell_type": "markdown",
   "metadata": {},
   "source": [
    "## Min/Max Dewpoint\n",
    "Since we have both humidity and temperature, we can also calculate the dewpoint. Dewpoint is calculated as below.\n",
    "\n",
    "$T_{temp} - (\\frac{(100 - H_{humidity})}{5})$"
   ]
  },
  {
   "cell_type": "code",
   "execution_count": null,
   "metadata": {},
   "outputs": [],
   "source": [
    "print('The maximum dewpoint recorded inside the payload was {:.2f} C'.format(har_df.Temp.max()-((100 - har_df.Humidity.max())/5.0)))\n",
    "print('The minimum dewpoint recorded inside the payload was {:.2f} C'.format(har_df.Temp.min()-((100 - har_df.Humidity.min())/5.0)))"
   ]
  },
  {
   "cell_type": "code",
   "execution_count": null,
   "metadata": {},
   "outputs": [],
   "source": [
    "print('The maximum pressure recorded inside the payload was',har_df.Pressure.max(),'hPa')\n",
    "print('The minimum pressure recorded inside the payload was',har_df.Pressure.min(),'hPa')"
   ]
  },
  {
   "cell_type": "code",
   "execution_count": null,
   "metadata": {},
   "outputs": [],
   "source": [
    "print('The maximum altitude obtained is',har_df.Altitude.max(),'m, or',(har_df.Altitude.max()*3.2808),'ft')"
   ]
  },
  {
   "cell_type": "markdown",
   "metadata": {},
   "source": [
    "# Eclipse Times\n",
    "Since we launched from Carbondale, IL, the eclipse started at 1243, totality happened at 1359 till 1403 and the eclipse ended at 1518, all times are local times. "
   ]
  },
  {
   "cell_type": "code",
   "execution_count": null,
   "metadata": {},
   "outputs": [],
   "source": [
    "set_times = ['2024-04-08 17:43:00', '2024-04-08 18:59:00', '2024-04-08 19:03:00','2024-04-08 20:18:00']\n",
    "set_labels = ['Eclipse Begins','Totality Begins','Totality Ends','Eclipse Ends']\n",
    "# Convert set times to pandas Timestamp objects\n",
    "set_times = [pd.Timestamp(time) for time in set_times]"
   ]
  },
  {
   "cell_type": "markdown",
   "metadata": {},
   "source": [
    "# Graphing\n",
    "The following graphs are from the HAR board's BME680 sensor connected via a QWIIC connector and the GPS also connected via the QWIIC connector. HAR is located inside the spacecraft and is mostly shielded from direct light and the foam around the spacecraft does provide insulation. The spacecraft is not sealed, so the pressure will adjust based on external pressure. \n",
    "\n",
    "## Altitude\n",
    "Let's start by graphing the altitude. This attitude is based on the GPS sensor and not on the pressure sensor with this current version.\n",
    "\n",
    "For HABET Flight L-169-A, a cutdown command was sent. There was no confirmation back that the command was received. We believe the balloon did fly to burst as the maximum altitude is close to the predicted burst altitude. However, the cutdown system was triggered. We think that was triggered due to the 4-hour timer built into the cut down device as a safety measure to make sure the balloon does not float."
   ]
  },
  {
   "cell_type": "code",
   "execution_count": null,
   "metadata": {},
   "outputs": [],
   "source": [
    "har_df.plot(title='{} Altitude Plot'.format(flight_id),ylabel='Altitude in meters',xlabel='Time (UTC)',x='Time',y='Altitude',figsize=(20, 10))\n",
    "# Add vertical lines at set times\n",
    "for time, label in zip(set_times,set_labels):\n",
    "    plt.axvline(x=time, color='r')\n",
    "    plt.text(time, 1, label, rotation=90, verticalalignment='bottom')\n",
    "\n",
    "# Add shaded area between the two vertical lines\n",
    "plt.axvspan(set_times[1], set_times[2], color='red', alpha=0.5)\n",
    "# Change x-axis labels to only show time\n",
    "plt.gca().xaxis.set_major_formatter(mdates.DateFormatter('%H:%M:%S'))\n",
    "\n",
    "plt.savefig('Plots/har_alt_plot.pdf',bbox_inches = 'tight',dpi = img_dpi)\n",
    "plt.savefig('Plots/har_alt_plot.png',bbox_inches = 'tight',dpi = img_dpi)"
   ]
  },
  {
   "cell_type": "markdown",
   "metadata": {},
   "source": [
    "## Temperature\n",
    "Please note that the temperature sensor for HAR was located inside the spacecraft. There will be some self-heating from the sensor and from other equipment inside the spacecraft including the Raspberry Pi and the Rocket M5 which both generate quite a bit of heat during normal operation."
   ]
  },
  {
   "cell_type": "code",
   "execution_count": null,
   "metadata": {},
   "outputs": [],
   "source": [
    "har_df.plot(title='{} Temperature Plot '.format(flight_id),ylabel='Temperature in C',xlabel='Time (UTC)',x='Time',y='Temp',figsize=(20, 10))\n",
    "\n",
    "# Add vertical lines at set times\n",
    "for time, label in zip(set_times,set_labels):\n",
    "    plt.axvline(x=time, color='r')\n",
    "    plt.text(time, 1, label, rotation=90, verticalalignment='bottom')\n",
    "\n",
    "# Add shaded area between the two vertical lines\n",
    "plt.axvspan(set_times[1], set_times[2], color='red', alpha=0.5)\n",
    "# Change x-axis labels to only show time\n",
    "plt.gca().xaxis.set_major_formatter(mdates.DateFormatter('%H:%M:%S'))\n",
    "\n",
    "plt.savefig('Plots/har_temp_plot.pdf',bbox_inches = 'tight',dpi = img_dpi)\n",
    "plt.savefig('Plots/har_temp_plot.png',bbox_inches = 'tight',dpi = img_dpi)"
   ]
  },
  {
   "cell_type": "markdown",
   "metadata": {},
   "source": [
    "## Humidity\n"
   ]
  },
  {
   "cell_type": "code",
   "execution_count": null,
   "metadata": {},
   "outputs": [],
   "source": [
    "har_df.plot(title='{} Humidity Plot '.format(flight_id),ylabel='Humidity as %',xlabel='Time (UTC)',x='Time',y='Humidity',figsize=(20, 10))\n",
    "\n",
    "# Add vertical lines at set times\n",
    "for time, label in zip(set_times,set_labels):\n",
    "    plt.axvline(x=time, color='r')\n",
    "    plt.text(time, 1, label, rotation=90, verticalalignment='bottom')\n",
    "\n",
    "# Add shaded area between the two vertical lines\n",
    "plt.axvspan(set_times[1], set_times[2], color='red', alpha=0.5)\n",
    "# Change x-axis labels to only show time\n",
    "plt.gca().xaxis.set_major_formatter(mdates.DateFormatter('%H:%M:%S'))\n",
    "\n",
    "plt.savefig('Plots/har_humidity_plot.pdf',bbox_inches = 'tight',dpi = img_dpi)\n",
    "plt.savefig('Plots/har_humidity_plot.png',bbox_inches = 'tight',dpi = img_dpi)"
   ]
  },
  {
   "cell_type": "markdown",
   "metadata": {},
   "source": [
    "## Pressure\n"
   ]
  },
  {
   "cell_type": "code",
   "execution_count": null,
   "metadata": {},
   "outputs": [],
   "source": [
    "har_df.plot(title='{} Pressure Plot '.format(flight_id),ylabel='Pressure in hPa',xlabel='Time (UTC)',x='Time',y='Pressure',figsize=(20, 10))\n",
    "\n",
    "# Add vertical lines at set times\n",
    "for time, label in zip(set_times,set_labels):\n",
    "    plt.axvline(x=time, color='r')\n",
    "    plt.text(time, 1, label, rotation=90, verticalalignment='bottom')\n",
    "\n",
    "# Add shaded area between the two vertical lines\n",
    "plt.axvspan(set_times[1], set_times[2], color='red', alpha=0.5)\n",
    "# Change x-axis labels to only show time\n",
    "plt.gca().xaxis.set_major_formatter(mdates.DateFormatter('%H:%M:%S'))\n",
    "plt.savefig('Plots/har_pressure_plot.pdf',bbox_inches = 'tight',dpi = img_dpi)\n",
    "plt.savefig('Plots/har_pressure_plot.png',bbox_inches = 'tight',dpi = img_dpi)"
   ]
  },
  {
   "cell_type": "markdown",
   "metadata": {},
   "source": [
    "## Temp vs Altitude\n",
    "It's useful to look at this data vs Altitude. "
   ]
  },
  {
   "cell_type": "code",
   "execution_count": null,
   "metadata": {},
   "outputs": [],
   "source": [
    "har_df.plot(title='{} Temp vs Altitude Plot'.format(flight_id),ylabel='Altitude in meters',xlabel='Temp in C',x='Temp',y='Altitude',figsize=(20, 10))\n",
    "\n",
    "plt.savefig('Plots/tempalt_plot.pdf',bbox_inches = 'tight',dpi = img_dpi)\n",
    "plt.savefig('Plots/tempalt_plot.png',bbox_inches = 'tight',dpi = img_dpi)"
   ]
  },
  {
   "cell_type": "code",
   "execution_count": null,
   "metadata": {},
   "outputs": [],
   "source": [
    "# Setup fixed points for graphing with\n",
    "\n",
    "# Turn on subplots\n",
    "fig, ax1 = plt.subplots(figsize=(20,10))\n",
    "color = 'tab:red'\n",
    "ax1.set_xlabel('time (s)')\n",
    "ax1.set_ylabel('Humidity (%)', color=color)\n",
    "ax1.plot(har_df.Humidity,color=color)\n",
    "ax1.tick_params(axis='y', labelcolor=color)\n",
    "ax2 = ax1.twinx()  # instantiate a second axes that shares the same x-axis\n",
    "\n",
    "color = 'tab:blue'\n",
    "ax2.set_ylabel('Temperature in C', color=color)  # we already handled the x-label with ax1\n",
    "ax2.plot(har_df.Temp)\n",
    "ax2.tick_params(axis='y', labelcolor=color)\n",
    "\n",
    "# Always have a good title\n",
    "plt.title(\"{} Temp vs Humidity\".format(flight_id),color='c')\n",
    "# This allows us to save our pretty graph so we can frame it later\n",
    "plt.savefig('Plots/temp_humidity.pdf',bbox_inches = 'tight',dpi = img_dpi)\n",
    "plt.savefig('Plots/temp_humidity.png',bbox_inches = 'tight',dpi = img_dpi)"
   ]
  },
  {
   "cell_type": "markdown",
   "metadata": {},
   "source": [
    "# Temp vs Pressure"
   ]
  },
  {
   "cell_type": "code",
   "execution_count": null,
   "metadata": {},
   "outputs": [],
   "source": [
    "# Setup fixed points for graphing with\n",
    "\n",
    "# Turn on subplots\n",
    "fig, ax1 = plt.subplots(figsize=(20,10))\n",
    "color = 'tab:red'\n",
    "ax1.set_xlabel('time (s)')\n",
    "ax1.set_ylabel('Pressure (hPa)', color=color)\n",
    "ax1.plot(har_df.Pressure,color=color)\n",
    "ax1.tick_params(axis='y', labelcolor=color)\n",
    "\n",
    "ax2 = ax1.twinx()  # instantiate a second axes that shares the same x-axis\n",
    "\n",
    "color = 'tab:blue'\n",
    "ax2.set_ylabel('Temperature in C', color=color)  # we already handled the x-label with ax1\n",
    "ax2.plot(har_df.Temp)\n",
    "ax2.tick_params(axis='y', labelcolor=color)\n",
    "\n",
    "# Always have a good title\n",
    "plt.title(\"{} Temp vs Pressure\".format(flight_id),color='c')\n",
    "# This allows us to save our pretty graph so we can frame it later\n",
    "plt.savefig('Plots/temp_pressure.pdf',bbox_inches = 'tight',dpi = img_dpi)\n",
    "plt.savefig('Plots/temp_pressure.png',bbox_inches = 'tight',dpi = img_dpi)"
   ]
  },
  {
   "cell_type": "code",
   "execution_count": null,
   "metadata": {},
   "outputs": [],
   "source": [
    "# Setup fixed points for graphing with\n",
    "\n",
    "# Turn on subplots\n",
    "fig, ax1 = plt.subplots(figsize=(20,10))\n",
    "color = 'tab:red'\n",
    "ax1.set_xlabel('time (s)')\n",
    "ax1.set_ylabel('Pressure (hPa)', color=color)\n",
    "ax1.plot(har_df.Pressure,color=color)\n",
    "ax1.tick_params(axis='y', labelcolor=color)\n",
    "\n",
    "ax2 = ax1.twinx()  # instantiate a second axes that shares the same x-axis\n",
    "\n",
    "color = 'tab:blue'\n",
    "ax2.set_ylabel('Humidity (%)', color=color)  # we already handled the x-label with ax1\n",
    "ax2.plot(har_df.Humidity)\n",
    "ax2.tick_params(axis='y', labelcolor=color)\n",
    "\n",
    "# Always have a good title\n",
    "plt.title(\"{} Humidity vs Pressure\".format(flight_id),color='c')\n",
    "# This allows us to save our pretty graph so we can frame it later\n",
    "plt.savefig('Plots/humidity_pressure.pdf',bbox_inches = 'tight',dpi = img_dpi)\n",
    "plt.savefig('Plots/humidity_pressure.png',bbox_inches = 'tight',dpi = img_dpi)"
   ]
  },
  {
   "cell_type": "markdown",
   "metadata": {},
   "source": [
    "# Mapping the data\n",
    "Let's map the data. There are a couple of ways to do this. First, we can save the information as a Keyhole Markup Language (KML). This format is then easy to import into Google Maps or Google Earth. Other systems can import a KML file. \n",
    "\n",
    "The second method is to map the data and for that, we can use timemapbase which will download map tiles from Open Street Maps."
   ]
  },
  {
   "cell_type": "code",
   "execution_count": null,
   "metadata": {},
   "outputs": [],
   "source": [
    "tilemapbase.init(create=True)"
   ]
  },
  {
   "cell_type": "markdown",
   "metadata": {},
   "source": [
    "# Create KML file\n",
    "A KML file allows us to import the path of the spacecraft into other programs. This allows us to make the KML file and save it."
   ]
  },
  {
   "cell_type": "code",
   "execution_count": null,
   "metadata": {},
   "outputs": [],
   "source": [
    "kml = simplekml.Kml()\n",
    "linestring = kml.newlinestring(name=flight_id)\n",
    "har_df.apply(lambda X: linestring.coords.addcoordinates([( X[\"Lon\"],X[\"Lat\"],X[\"Altitude\"])]) ,axis=1)\n",
    "\n",
    "linestring.altitudemode = simplekml.AltitudeMode.relativetoground\n",
    "linestring.extrude = 1\n",
    "linestring.linestyle.color = simplekml.Color.green\n",
    "linestring.linestyle.width = 5\n",
    "linestring.polystyle.color = simplekml.Color.orange\n",
    "\n",
    "#Saving\n",
    "kml.save(\"KML/flight.kml\")"
   ]
  },
  {
   "cell_type": "markdown",
   "metadata": {},
   "source": [
    "# Map the data\n",
    "We can start by graphing the latitude and longitude data. This clearly shows the path, but without a map it does not give us a reference to things such as streets and other features."
   ]
  },
  {
   "cell_type": "code",
   "execution_count": null,
   "metadata": {},
   "outputs": [],
   "source": [
    "color = 'tab:blue'\n",
    "\n",
    "har_df.plot(title='{} HAR GPS Plot '.format(flight_id),ylabel='Latitude (DD.MM)',xlabel='Longitude (DD.MM)',x='Lon',y='Lat',figsize=(20, 10))\n",
    "\n",
    "plt.savefig('Plots/gps_plot_nomap.pdf',bbox_inches = 'tight',dpi = img_dpi)\n",
    "plt.savefig('Plots/gps_plot_nomap.png',bbox_inches = 'tight',dpi = img_dpi)"
   ]
  },
  {
   "cell_type": "markdown",
   "metadata": {},
   "source": [
    "## 3D plot\n",
    "We can do a 3D plot that has the latitude, longitude and altitude. Again, there is no map for a reference but it does give us a fairly good picture of what the flight path looked like."
   ]
  },
  {
   "cell_type": "code",
   "execution_count": null,
   "metadata": {},
   "outputs": [],
   "source": [
    "#from mpl_toolkits.mplot3d import Axes3D\n",
    "from mpl_toolkits.mplot3d import Axes3D\n",
    "\n",
    "ur = (42.133700, -93.494635)\n",
    "ll = (42.042358, -93.692460)\n",
    "# Creating a 3D plot\n",
    "fig = plt.figure(figsize=(20, 10))\n",
    "ax = fig.add_subplot(111, projection='3d')\n",
    "\n",
    "# Plotting data\n",
    "scatter = ax.scatter(har_df['Lon'], har_df['Lat'], har_df['Altitude'], c=har_df['Altitude'], cmap='winter_r', marker='o')\n",
    "\n",
    "ax.plot3D(har_df['Lon'],har_df['Lat'],har_df['Altitude'])\n",
    "ax.set_xlabel('Longitude (DD.MM)')\n",
    "ax.set_ylabel('Latitude (DD.MM)')\n",
    "ax.set_zlabel('Altitude (m)')\n",
    "ax.set_title('{} 3D Plot'.format(flight_id))\n",
    "\n",
    "# Adding a color bar to indicate altitude values\n",
    "color_bar = fig.colorbar(scatter, ax=ax, shrink=0.5, aspect=5)\n",
    "color_bar.set_label('Altitude')\n",
    "\n",
    "plt.savefig('Plots/3D_Map_View.pdf',bbox_inches = 'tight',dpi = img_dpi)\n",
    "plt.savefig('Plots/3D_Map_View.png',bbox_inches = 'tight',dpi = img_dpi)"
   ]
  },
  {
   "cell_type": "markdown",
   "metadata": {},
   "source": [
    "## Mapping using BaseMaps\n",
    "We can use timemapbase to download Open Street Map tiles. We will center this map on the launch location."
   ]
  },
  {
   "cell_type": "code",
   "execution_count": null,
   "metadata": {},
   "outputs": [],
   "source": [
    "# Define the `extent`\n",
    "color='blue'\n",
    "\n",
    "# Zoom, the higher the number the zoomed out it will be. This is centered on\n",
    "# the launch location\n",
    "degree_range = 1.9\n",
    "\n",
    "extent = tilemapbase.Extent.from_lonlat(launch_loc[1] - degree_range, launch_loc[1] + degree_range,\n",
    "                  launch_loc[0] - degree_range, launch_loc[0] + degree_range)\n",
    "extent = extent.to_aspect(1.0)\n",
    "\n",
    "# Convert to web mercator\n",
    "path = [tilemapbase.project(x,y) for x,y in zip(har_df['Lon'], har_df['Lat'])]\n",
    "x, y = zip(*path)\n",
    "\n",
    "fig, ax = plt.subplots(figsize=(20,20))\n",
    "\n",
    "plotter = tilemapbase.Plotter(extent, tilemapbase.tiles.build_OSM(), width=800)\n",
    "plotter.plot(ax)\n",
    "plt.ylabel('Latitude (Mercator)', color=color)\n",
    "plt.xlabel('Longitude (Mercator)', color=color)\n",
    "\n",
    "plt.title(\"{} GPS Plot on Street map\".format(flight_id),color='r')\n",
    "\n",
    "ax.plot(x, y,\"b-\")\n",
    "plt.savefig('Plots/gps_plot_map.pdf',bbox_inches = \"tight\",dpi = img_dpi)\n",
    "plt.savefig('Plots/gps_plot_map.png',bbox_inches = \"tight\",dpi = img_dpi)"
   ]
  },
  {
   "cell_type": "markdown",
   "metadata": {},
   "source": [
    "## Zooming in\n",
    "We can zoom in, let's zoom in on the landing area. To do this we will change the center area based on the last longitutde and latitude recorded which is at the end of the flight. "
   ]
  },
  {
   "cell_type": "code",
   "execution_count": null,
   "metadata": {},
   "outputs": [],
   "source": [
    "# Define the `extent`\n",
    "color='blue'\n",
    "\n",
    "# Zoom, the higher the number the zoomed out it will be. This is centered on\n",
    "# the landing location\n",
    "degree_range = 0.05\n",
    "\n",
    "extent = tilemapbase.Extent.from_lonlat(har_df['Lon'].iloc[-1] - degree_range, har_df['Lon'].iloc[-1] + degree_range,\n",
    "                  har_df['Lat'].iloc[-1] - degree_range, har_df['Lat'].iloc[-1] + degree_range)\n",
    "extent = extent.to_aspect(1.0)\n",
    "\n",
    "# Convert to web mercator\n",
    "path = [tilemapbase.project(x,y) for x,y in zip(har_df['Lon'], har_df['Lat'])]\n",
    "x, y = zip(*path)\n",
    "\n",
    "fig, ax = plt.subplots(figsize=(20,20))\n",
    "t = tilemapbase.tiles.Carto_Light\n",
    "plotter = tilemapbase.Plotter(extent, t, width=800)\n",
    "plotter.plot(ax)\n",
    "plt.ylabel('Latitude (Mercator)', color=color)\n",
    "plt.xlabel('Longitude (Mercator)', color=color)\n",
    "\n",
    "plt.title(\"{} GPS Plot Landing\".format(flight_id),color='r')\n",
    "\n",
    "ax.plot(x, y,\"b-\")\n",
    "plt.savefig('Plots/gps_plot_map_landing.pdf',bbox_inches = \"tight\",dpi = img_dpi)\n",
    "plt.savefig('Plots/gps_plot_map_landing.png',bbox_inches = \"tight\",dpi = img_dpi)"
   ]
  }
 ],
 "metadata": {
  "kernelspec": {
   "display_name": "Python 3 (ipykernel)",
   "language": "python",
   "name": "python3"
  },
  "language_info": {
   "codemirror_mode": {
    "name": "ipython",
    "version": 3
   },
   "file_extension": ".py",
   "mimetype": "text/x-python",
   "name": "python",
   "nbconvert_exporter": "python",
   "pygments_lexer": "ipython3",
   "version": "3.11.8"
  }
 },
 "nbformat": 4,
 "nbformat_minor": 4
}
